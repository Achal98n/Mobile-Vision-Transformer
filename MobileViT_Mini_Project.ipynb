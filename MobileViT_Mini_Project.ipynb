{
  "nbformat": 4,
  "nbformat_minor": 0,
  "metadata": {
    "colab": {
      "provenance": []
    },
    "kernelspec": {
      "name": "python3",
      "display_name": "Python 3"
    },
    "language_info": {
      "name": "python"
    }
  },
  "cells": [
    {
      "cell_type": "code",
      "source": [
        "!pip install --upgrade tensorflow\n"
      ],
      "metadata": {
        "colab": {
          "base_uri": "https://localhost:8080/"
        },
        "id": "xjgb5vzp-QiZ",
        "outputId": "54937a04-5799-494a-a0c8-91f84b05fce9"
      },
      "execution_count": null,
      "outputs": [
        {
          "output_type": "stream",
          "name": "stdout",
          "text": [
            "Requirement already satisfied: tensorflow in /usr/local/lib/python3.10/dist-packages (2.14.0)\n",
            "Requirement already satisfied: absl-py>=1.0.0 in /usr/local/lib/python3.10/dist-packages (from tensorflow) (1.4.0)\n",
            "Requirement already satisfied: astunparse>=1.6.0 in /usr/local/lib/python3.10/dist-packages (from tensorflow) (1.6.3)\n",
            "Requirement already satisfied: flatbuffers>=23.5.26 in /usr/local/lib/python3.10/dist-packages (from tensorflow) (23.5.26)\n",
            "Requirement already satisfied: gast!=0.5.0,!=0.5.1,!=0.5.2,>=0.2.1 in /usr/local/lib/python3.10/dist-packages (from tensorflow) (0.4.0)\n",
            "Requirement already satisfied: google-pasta>=0.1.1 in /usr/local/lib/python3.10/dist-packages (from tensorflow) (0.2.0)\n",
            "Requirement already satisfied: h5py>=2.9.0 in /usr/local/lib/python3.10/dist-packages (from tensorflow) (3.9.0)\n",
            "Requirement already satisfied: libclang>=13.0.0 in /usr/local/lib/python3.10/dist-packages (from tensorflow) (16.0.6)\n",
            "Requirement already satisfied: ml-dtypes==0.2.0 in /usr/local/lib/python3.10/dist-packages (from tensorflow) (0.2.0)\n",
            "Requirement already satisfied: numpy>=1.23.5 in /usr/local/lib/python3.10/dist-packages (from tensorflow) (1.23.5)\n",
            "Requirement already satisfied: opt-einsum>=2.3.2 in /usr/local/lib/python3.10/dist-packages (from tensorflow) (3.3.0)\n",
            "Requirement already satisfied: packaging in /usr/local/lib/python3.10/dist-packages (from tensorflow) (23.2)\n",
            "Requirement already satisfied: protobuf!=4.21.0,!=4.21.1,!=4.21.2,!=4.21.3,!=4.21.4,!=4.21.5,<5.0.0dev,>=3.20.3 in /usr/local/lib/python3.10/dist-packages (from tensorflow) (3.20.3)\n",
            "Requirement already satisfied: setuptools in /usr/local/lib/python3.10/dist-packages (from tensorflow) (67.7.2)\n",
            "Requirement already satisfied: six>=1.12.0 in /usr/local/lib/python3.10/dist-packages (from tensorflow) (1.16.0)\n",
            "Requirement already satisfied: termcolor>=1.1.0 in /usr/local/lib/python3.10/dist-packages (from tensorflow) (2.3.0)\n",
            "Requirement already satisfied: typing-extensions>=3.6.6 in /usr/local/lib/python3.10/dist-packages (from tensorflow) (4.5.0)\n",
            "Requirement already satisfied: wrapt<1.15,>=1.11.0 in /usr/local/lib/python3.10/dist-packages (from tensorflow) (1.14.1)\n",
            "Requirement already satisfied: tensorflow-io-gcs-filesystem>=0.23.1 in /usr/local/lib/python3.10/dist-packages (from tensorflow) (0.34.0)\n",
            "Requirement already satisfied: grpcio<2.0,>=1.24.3 in /usr/local/lib/python3.10/dist-packages (from tensorflow) (1.59.0)\n",
            "Requirement already satisfied: tensorboard<2.15,>=2.14 in /usr/local/lib/python3.10/dist-packages (from tensorflow) (2.14.1)\n",
            "Requirement already satisfied: tensorflow-estimator<2.15,>=2.14.0 in /usr/local/lib/python3.10/dist-packages (from tensorflow) (2.14.0)\n",
            "Requirement already satisfied: keras<2.15,>=2.14.0 in /usr/local/lib/python3.10/dist-packages (from tensorflow) (2.14.0)\n",
            "Requirement already satisfied: wheel<1.0,>=0.23.0 in /usr/local/lib/python3.10/dist-packages (from astunparse>=1.6.0->tensorflow) (0.41.2)\n",
            "Requirement already satisfied: google-auth<3,>=1.6.3 in /usr/local/lib/python3.10/dist-packages (from tensorboard<2.15,>=2.14->tensorflow) (2.17.3)\n",
            "Requirement already satisfied: google-auth-oauthlib<1.1,>=0.5 in /usr/local/lib/python3.10/dist-packages (from tensorboard<2.15,>=2.14->tensorflow) (1.0.0)\n",
            "Requirement already satisfied: markdown>=2.6.8 in /usr/local/lib/python3.10/dist-packages (from tensorboard<2.15,>=2.14->tensorflow) (3.5)\n",
            "Requirement already satisfied: requests<3,>=2.21.0 in /usr/local/lib/python3.10/dist-packages (from tensorboard<2.15,>=2.14->tensorflow) (2.31.0)\n",
            "Requirement already satisfied: tensorboard-data-server<0.8.0,>=0.7.0 in /usr/local/lib/python3.10/dist-packages (from tensorboard<2.15,>=2.14->tensorflow) (0.7.1)\n",
            "Requirement already satisfied: werkzeug>=1.0.1 in /usr/local/lib/python3.10/dist-packages (from tensorboard<2.15,>=2.14->tensorflow) (3.0.0)\n",
            "Requirement already satisfied: cachetools<6.0,>=2.0.0 in /usr/local/lib/python3.10/dist-packages (from google-auth<3,>=1.6.3->tensorboard<2.15,>=2.14->tensorflow) (5.3.1)\n",
            "Requirement already satisfied: pyasn1-modules>=0.2.1 in /usr/local/lib/python3.10/dist-packages (from google-auth<3,>=1.6.3->tensorboard<2.15,>=2.14->tensorflow) (0.3.0)\n",
            "Requirement already satisfied: rsa<5,>=3.1.4 in /usr/local/lib/python3.10/dist-packages (from google-auth<3,>=1.6.3->tensorboard<2.15,>=2.14->tensorflow) (4.9)\n",
            "Requirement already satisfied: requests-oauthlib>=0.7.0 in /usr/local/lib/python3.10/dist-packages (from google-auth-oauthlib<1.1,>=0.5->tensorboard<2.15,>=2.14->tensorflow) (1.3.1)\n",
            "Requirement already satisfied: charset-normalizer<4,>=2 in /usr/local/lib/python3.10/dist-packages (from requests<3,>=2.21.0->tensorboard<2.15,>=2.14->tensorflow) (3.3.0)\n",
            "Requirement already satisfied: idna<4,>=2.5 in /usr/local/lib/python3.10/dist-packages (from requests<3,>=2.21.0->tensorboard<2.15,>=2.14->tensorflow) (3.4)\n",
            "Requirement already satisfied: urllib3<3,>=1.21.1 in /usr/local/lib/python3.10/dist-packages (from requests<3,>=2.21.0->tensorboard<2.15,>=2.14->tensorflow) (2.0.7)\n",
            "Requirement already satisfied: certifi>=2017.4.17 in /usr/local/lib/python3.10/dist-packages (from requests<3,>=2.21.0->tensorboard<2.15,>=2.14->tensorflow) (2023.7.22)\n",
            "Requirement already satisfied: MarkupSafe>=2.1.1 in /usr/local/lib/python3.10/dist-packages (from werkzeug>=1.0.1->tensorboard<2.15,>=2.14->tensorflow) (2.1.3)\n",
            "Requirement already satisfied: pyasn1<0.6.0,>=0.4.6 in /usr/local/lib/python3.10/dist-packages (from pyasn1-modules>=0.2.1->google-auth<3,>=1.6.3->tensorboard<2.15,>=2.14->tensorflow) (0.5.0)\n",
            "Requirement already satisfied: oauthlib>=3.0.0 in /usr/local/lib/python3.10/dist-packages (from requests-oauthlib>=0.7.0->google-auth-oauthlib<1.1,>=0.5->tensorboard<2.15,>=2.14->tensorflow) (3.2.2)\n"
          ]
        }
      ]
    },
    {
      "cell_type": "code",
      "source": [],
      "metadata": {
        "id": "s35QOVwl-QXN"
      },
      "execution_count": null,
      "outputs": []
    },
    {
      "cell_type": "code",
      "source": [
        "from google.colab import drive\n",
        "\n",
        "# Mount Google Drive\n",
        "drive.mount('/content/drive')\n"
      ],
      "metadata": {
        "colab": {
          "base_uri": "https://localhost:8080/"
        },
        "id": "jG7rT5qB-dbs",
        "outputId": "33089e3d-8f4b-489d-a65e-1cbcab782895"
      },
      "execution_count": 1,
      "outputs": [
        {
          "output_type": "stream",
          "name": "stdout",
          "text": [
            "Mounted at /content/drive\n"
          ]
        }
      ]
    },
    {
      "cell_type": "code",
      "source": [],
      "metadata": {
        "id": "kfw2rQs6C8pu"
      },
      "execution_count": null,
      "outputs": []
    },
    {
      "cell_type": "code",
      "source": [
        "import tensorflow as tf\n",
        "from tensorflow.keras import layers\n",
        "from tensorflow.keras.preprocessing.image import ImageDataGenerator\n",
        "\n",
        "# Custom Self-Attention Layer\n",
        "class SelfAttention(layers.Layer):\n",
        "    def __init__(self, units):\n",
        "        super(SelfAttention, self).__init__()\n",
        "        self.units = units\n",
        "        self.W_q = layers.Dense(units)\n",
        "        self.W_k = layers.Dense(units)\n",
        "        self.W_v = layers.Dense(units)\n",
        "        self.attention = layers.Attention()\n",
        "\n",
        "    def call(self, inputs):\n",
        "        query = self.W_q(inputs)\n",
        "        key = self.W_k(inputs)\n",
        "        value = self.W_v(inputs)\n",
        "        attention_output = self.attention([query, key, value])\n",
        "        return attention_output\n",
        "\n",
        "def inverted_residual_block(inputs, num_filters, strides=1, expansion_ratio=1):\n",
        "    ## Point-Wise Convolution\n",
        "    x = layers.Conv2D(\n",
        "        filters=expansion_ratio*inputs.shape[-1],\n",
        "        kernel_size=1,\n",
        "        padding=\"same\",\n",
        "        use_bias=False\n",
        "    )(inputs)\n",
        "    x = layers.BatchNormalization()(x)\n",
        "    x = layers.Activation(\"swish\")(x)\n",
        "\n",
        "    ## Depth-Wise Convolution\n",
        "    x = layers.DepthwiseConv2D(\n",
        "        kernel_size=3,\n",
        "        strides=strides,\n",
        "        padding=\"same\",\n",
        "        use_bias=False\n",
        "    )(x)\n",
        "    x = layers.BatchNormalization()(x)\n",
        "    x = layers.Activation(\"swish\")(x)\n",
        "\n",
        "    ## Point-Wise Convolution\n",
        "    x = layers.Conv2D(\n",
        "        filters=num_filters,\n",
        "        kernel_size=1,\n",
        "        padding=\"same\",\n",
        "        use_bias=False\n",
        "    )(x)\n",
        "    x = layers.BatchNormalization()(x)\n",
        "\n",
        "    ## Residual Connection\n",
        "    if strides == 1 and (inputs.shape == x.shape):\n",
        "        return layers.Add()([inputs, x])\n",
        "    return x\n",
        "\n",
        "def mlp(x, mlp_dim, dim, dropout_rate=0.1):\n",
        "    x = layers.Dense(mlp_dim, activation=\"swish\")(x)\n",
        "    x = layers.Dropout(dropout_rate)(x)\n",
        "    x = layers.Dense(dim)(x)\n",
        "    x = layers.Dropout(dropout_rate)(x)\n",
        "    return x\n",
        "\n",
        "def transformer_encoder(x, num_heads, dim, mlp_dim):\n",
        "    skip_1 = x\n",
        "    x = layers.LayerNormalization()(x)\n",
        "    x = layers.MultiHeadAttention(\n",
        "        num_heads=num_heads, key_dim=dim\n",
        "    )(x, x)\n",
        "    x = layers.Add()([x, skip_1])\n",
        "\n",
        "    skip_2 = x\n",
        "    x = layers.LayerNormalization()(x)\n",
        "    x = mlp(x, mlp_dim, dim)\n",
        "    x = layers.Add()([x, skip_2])\n",
        "\n",
        "    return x\n",
        "\n",
        "def mobile_vit_block(inputs, num_filters, dim, patch_size=2, num_layers=1):\n",
        "    B, H, W, C = inputs.shape\n",
        "\n",
        "    ## 3x3 conv\n",
        "    x = layers.Conv2D(\n",
        "        filters=C,\n",
        "        kernel_size=3,\n",
        "        padding=\"same\",\n",
        "        use_bias=False\n",
        "    )(inputs)\n",
        "    x = layers.BatchNormalization()(x)\n",
        "    x = layers.Activation(\"swish\")(x)\n",
        "\n",
        "    ## 1x1 conv: d-dimension\n",
        "    x = layers.Conv2D(\n",
        "        filters=dim,\n",
        "        kernel_size=1,\n",
        "        padding=\"same\",\n",
        "        use_bias=False\n",
        "    )(inputs)\n",
        "    x = layers.BatchNormalization()(x)\n",
        "    x = layers.Activation(\"swish\")(x)\n",
        "\n",
        "    ## Reshape x to flattened patches\n",
        "    P = patch_size*patch_size\n",
        "    N = int(H*W//P)\n",
        "    x = layers.Reshape((P, N, dim))(x)\n",
        "\n",
        "    ## Transformr Encoder\n",
        "    for _ in range(num_layers):\n",
        "        x = transformer_encoder(x, 1, dim, dim*2)\n",
        "\n",
        "    ## Reshape\n",
        "    x = layers.Reshape((H, W, dim))(x)\n",
        "\n",
        "    ## 1x1 conv: C-dimension\n",
        "    x = layers.Conv2D(\n",
        "        filters=C,\n",
        "        kernel_size=1,\n",
        "        padding=\"same\",\n",
        "        use_bias=False\n",
        "    )(inputs)\n",
        "    x = layers.BatchNormalization()(x)\n",
        "    x = layers.Activation(\"swish\")(x)\n",
        "\n",
        "    ## Concatenation\n",
        "    x = layers.Concatenate()([x, inputs])\n",
        "\n",
        "    ## 3x3 conv\n",
        "    x = layers.Conv2D(\n",
        "        filters=num_filters,\n",
        "        kernel_size=3,\n",
        "        padding=\"same\",\n",
        "        use_bias=False\n",
        "    )(inputs)\n",
        "    x = layers.BatchNormalization()(x)\n",
        "    x = layers.Activation(\"swish\")(x)\n",
        "\n",
        "    return x\n",
        "\n",
        "def MobileViT(input_shape, num_classes):\n",
        "    num_channels = [16, 16, 24, 24, 24, 48, 64, 64, 80, 80, 96, 320]\n",
        "    dim = [64, 80, 96]\n",
        "    expansion_ratio = 2\n",
        "\n",
        "    # Input layer\n",
        "    inputs = layers.Input(input_shape)\n",
        "\n",
        "    # Stem\n",
        "    x = layers.Conv2D(\n",
        "        filters=num_channels[0],\n",
        "        kernel_size=3,\n",
        "        strides=2,\n",
        "        padding=\"same\",\n",
        "        use_bias=False\n",
        "    )(inputs)\n",
        "    x = layers.BatchNormalization()(x)\n",
        "    x = layers.Activation(\"swish\")(x)\n",
        "    x = inverted_residual_block(x, num_channels[1], strides=1, expansion_ratio=expansion_ratio)\n",
        "\n",
        "    # Stage 1\n",
        "    x = inverted_residual_block(x, num_channels[2], strides=2, expansion_ratio=expansion_ratio)\n",
        "    x = inverted_residual_block(x, num_channels[3], strides=1, expansion_ratio=expansion_ratio)\n",
        "    x = inverted_residual_block(x, num_channels[4], strides=1, expansion_ratio=expansion_ratio)\n",
        "\n",
        "    # Stage 2\n",
        "    x = inverted_residual_block(x, num_channels[5], strides=2, expansion_ratio=expansion_ratio)\n",
        "    x = mobile_vit_block(x, num_channels[6], dim[0], num_layers=1)\n",
        "\n",
        "    # Stage 3\n",
        "    x = inverted_residual_block(x, num_channels[7], strides=2, expansion_ratio=expansion_ratio)\n",
        "    x = mobile_vit_block(x, num_channels[8], dim[1], num_layers=4)\n",
        "\n",
        "    # Stage 4\n",
        "    x = inverted_residual_block(x, num_channels[9], strides=2, expansion_ratio=expansion_ratio)\n",
        "    x = mobile_vit_block(x, num_channels[10], dim[2], num_layers=3)\n",
        "    x = layers.Conv2D(\n",
        "        filters=num_channels[11],\n",
        "        kernel_size=1,\n",
        "        padding=\"same\",\n",
        "        use_bias=False\n",
        "    )(x)\n",
        "    x = layers.BatchNormalization()(x)\n",
        "    x = layers.Activation(\"swish\")(x)\n",
        "\n",
        "    # Classifier\n",
        "    x = layers.GlobalAveragePooling2D()(x)\n",
        "    outputs = layers.Dense(num_classes, activation=\"softmax\")(x)\n",
        "\n",
        "    model = tf.keras.models.Model(inputs, outputs)\n",
        "    return model\n",
        "\n",
        "if __name__ == \"__main__\":\n",
        "    # Set your dataset paths\n",
        "    train_dir = \"/content/drive/MyDrive/archive (5)/train\"\n",
        "    validation_dir = \"/content/drive/MyDrive/archive (5)/val\"\n",
        "    test_dir = \"/content/drive/MyDrive/archive (5)/test\"\n",
        "\n",
        "    # Set your image size and number of classes\n",
        "    img_size = (256, 256)\n",
        "    num_classes = 2\n",
        "\n",
        "    # Create data generators with data augmentation for the training set\n",
        "    train_datagen = ImageDataGenerator(\n",
        "        rescale=1./255,\n",
        "        rotation_range=20,\n",
        "        width_shift_range=0.2,\n",
        "        height_shift_range=0.2,\n",
        "        shear_range=0.2,\n",
        "        zoom_range=0.2,\n",
        "        horizontal_flip=True,\n",
        "        fill_mode='nearest'\n",
        "    )\n",
        "\n",
        "    train_generator = train_datagen.flow_from_directory(\n",
        "        train_dir,\n",
        "        target_size=img_size,\n",
        "        batch_size=32,\n",
        "        class_mode='categorical'\n",
        "    )\n",
        "\n",
        "    validation_datagen = ImageDataGenerator(rescale=1./255)\n",
        "    validation_generator = validation_datagen.flow_from_directory(\n",
        "        validation_dir,\n",
        "        target_size=img_size,\n",
        "        batch_size=32,\n",
        "        class_mode='categorical'\n",
        "    )\n",
        "\n",
        "    # Build and compile the MobileViT model\n",
        "    model = MobileViT(input_shape=(*img_size, 3), num_classes=num_classes)\n",
        "    model.compile(optimizer='adam', loss='categorical_crossentropy', metrics=['accuracy'])\n",
        "\n",
        "    # Train the model\n",
        "    model.fit(train_generator, epochs=10, validation_data=validation_generator)\n",
        "\n",
        "    # Evaluate on the test set\n",
        "    test_datagen = ImageDataGenerator(rescale=1./255)\n",
        "    test_generator = test_datagen.flow_from_directory(\n",
        "        test_dir,\n",
        "        target_size=img_size,\n",
        "        batch_size=32,\n",
        "        class_mode='categorical'\n",
        "    )\n",
        "\n",
        "    loss, accuracy = model.evaluate(test_generator)\n",
        "    print(f'Test accuracy: {accuracy}')\n"
      ],
      "metadata": {
        "colab": {
          "base_uri": "https://localhost:8080/"
        },
        "id": "kSCbZfqoGf4A",
        "outputId": "08e58e17-e9a4-453d-baa5-7ada295e1e3d"
      },
      "execution_count": 6,
      "outputs": [
        {
          "output_type": "stream",
          "name": "stdout",
          "text": [
            "Found 4946 images belonging to 2 classes.\n",
            "Found 120 images belonging to 2 classes.\n",
            "Epoch 1/10\n",
            "155/155 [==============================] - 903s 6s/step - loss: 0.5747 - accuracy: 0.7002 - val_loss: 0.8004 - val_accuracy: 0.2333\n",
            "Epoch 2/10\n",
            "155/155 [==============================] - 860s 6s/step - loss: 0.4709 - accuracy: 0.7729 - val_loss: 0.8778 - val_accuracy: 0.2333\n",
            "Epoch 3/10\n",
            "155/155 [==============================] - 873s 6s/step - loss: 0.4366 - accuracy: 0.7974 - val_loss: 2.0624 - val_accuracy: 0.2333\n",
            "Epoch 4/10\n",
            "155/155 [==============================] - 905s 6s/step - loss: 0.3936 - accuracy: 0.8267 - val_loss: 0.7291 - val_accuracy: 0.6417\n",
            "Epoch 5/10\n",
            "155/155 [==============================] - 927s 6s/step - loss: 0.3782 - accuracy: 0.8275 - val_loss: 0.5611 - val_accuracy: 0.7667\n",
            "Epoch 6/10\n",
            "155/155 [==============================] - 934s 6s/step - loss: 0.3500 - accuracy: 0.8467 - val_loss: 0.4322 - val_accuracy: 0.8417\n",
            "Epoch 7/10\n",
            "155/155 [==============================] - 991s 6s/step - loss: 0.3371 - accuracy: 0.8532 - val_loss: 0.7246 - val_accuracy: 0.7500\n",
            "Epoch 8/10\n",
            "155/155 [==============================] - 905s 6s/step - loss: 0.3268 - accuracy: 0.8538 - val_loss: 0.6512 - val_accuracy: 0.8083\n",
            "Epoch 9/10\n",
            "155/155 [==============================] - 928s 6s/step - loss: 0.3073 - accuracy: 0.8694 - val_loss: 1.2846 - val_accuracy: 0.7000\n",
            "Epoch 10/10\n",
            "155/155 [==============================] - 895s 6s/step - loss: 0.3000 - accuracy: 0.8666 - val_loss: 0.6490 - val_accuracy: 0.7833\n",
            "Found 126 images belonging to 2 classes.\n",
            "4/4 [==============================] - 43s 13s/step - loss: 0.5109 - accuracy: 0.8254\n",
            "Test accuracy: 0.8253968358039856\n"
          ]
        }
      ]
    },
    {
      "cell_type": "code",
      "source": [],
      "metadata": {
        "id": "EYI76tdHD7rX"
      },
      "execution_count": null,
      "outputs": []
    },
    {
      "cell_type": "code",
      "source": [
        "# Save the entire model\n",
        "model.save(\"/content/drive/MyDrive/your_model_name.h5\")\n"
      ],
      "metadata": {
        "id": "dH6EPQPB_Y1D",
        "colab": {
          "base_uri": "https://localhost:8080/"
        },
        "outputId": "9db04b62-a907-4f66-88b7-cb4d819d48f6"
      },
      "execution_count": 7,
      "outputs": [
        {
          "output_type": "stream",
          "name": "stderr",
          "text": [
            "/usr/local/lib/python3.10/dist-packages/keras/src/engine/training.py:3079: UserWarning: You are saving your model as an HDF5 file via `model.save()`. This file format is considered legacy. We recommend using instead the native Keras format, e.g. `model.save('my_model.keras')`.\n",
            "  saving_api.save_model(\n"
          ]
        }
      ]
    },
    {
      "cell_type": "code",
      "source": [
        "import numpy as np\n",
        "import matplotlib.pyplot as plt\n",
        "from sklearn.metrics import confusion_matrix, ConfusionMatrixDisplay\n",
        "from sklearn.metrics import precision_recall_curve, roc_curve, auc\n",
        "from sklearn.metrics import precision_score, recall_score, f1_score, accuracy_score\n",
        "from sklearn.preprocessing import label_binarize\n",
        "from tensorflow.keras.preprocessing.image import ImageDataGenerator"
      ],
      "metadata": {
        "id": "D2b73kRWZ1zq"
      },
      "execution_count": 8,
      "outputs": []
    },
    {
      "cell_type": "code",
      "source": [
        "# Set your test dataset path\n",
        "test_dir = \"/content/drive/MyDrive/archive (5)/test\"\n",
        "\n",
        "# Set your image size and number of classes\n",
        "img_size = (256, 256)\n",
        "num_classes = 2\n",
        "\n",
        "# Create a test data generator\n",
        "test_datagen = ImageDataGenerator(rescale=1./255)\n",
        "test_generator = test_datagen.flow_from_directory(\n",
        "    test_dir,\n",
        "    target_size=img_size,\n",
        "    batch_size=32,\n",
        "    class_mode='categorical'\n",
        ")\n"
      ],
      "metadata": {
        "colab": {
          "base_uri": "https://localhost:8080/"
        },
        "id": "alF0yCnsfo2p",
        "outputId": "cbd9c78c-16fc-4e24-a8bc-76de3395c876"
      },
      "execution_count": 10,
      "outputs": [
        {
          "output_type": "stream",
          "name": "stdout",
          "text": [
            "Found 126 images belonging to 2 classes.\n"
          ]
        }
      ]
    },
    {
      "cell_type": "code",
      "source": [
        "# Calculate Precision, Recall, F1-Score, and Accuracy\n",
        "precision = precision_score(y_true, y_pred, average='weighted')\n",
        "recall = recall_score(y_true, y_pred, average='weighted')\n",
        "f1 = f1_score(y_true, y_pred, average='weighted')\n",
        "accuracy = accuracy_score(y_true, y_pred)\n",
        "\n",
        "print(f'Precision: {precision:.4f}')\n",
        "print(f'Recall: {recall:.4f}')\n",
        "print(f'F1-Score: {f1:.4f}')\n",
        "print(f'Accuracy: {accuracy:.4f}')\n",
        "\n",
        "# Binarize the labels for ROC and PR curves\n",
        "n_classes = num_classes\n",
        "y_true_bin = label_binarize(y_true, classes=np.arange(n_classes))\n",
        "y_pred_bin = label_binarize(y_pred, classes=np.arange(n_classes))\n"
      ],
      "metadata": {
        "colab": {
          "base_uri": "https://localhost:8080/"
        },
        "id": "5ALIyShWf3wr",
        "outputId": "dd4b6117-e3c4-43c0-9fd2-feb7772e53f5"
      },
      "execution_count": 14,
      "outputs": [
        {
          "output_type": "stream",
          "name": "stdout",
          "text": [
            "Precision: 0.6679\n",
            "Recall: 0.7143\n",
            "F1-Score: 0.6824\n",
            "Accuracy: 0.7143\n"
          ]
        }
      ]
    },
    {
      "cell_type": "code",
      "source": [],
      "metadata": {
        "id": "vOBP57yyf3jj"
      },
      "execution_count": null,
      "outputs": []
    },
    {
      "cell_type": "code",
      "source": [],
      "metadata": {
        "id": "hqVh7G9Nf3W4"
      },
      "execution_count": null,
      "outputs": []
    }
  ]
}